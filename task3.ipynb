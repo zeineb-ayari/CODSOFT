{
 "cells": [
  {
   "cell_type": "code",
   "execution_count": 3,
   "id": "48735eb0",
   "metadata": {},
   "outputs": [
    {
     "name": "stdout",
     "output_type": "stream",
     "text": [
      "enter the length of the password: 7\n",
      "password: 2?f,com\n"
     ]
    }
   ],
   "source": [
    "from random import*\n",
    "l=int(input('enter the length of the password: '))\n",
    "ch=''\n",
    "for i in range(l):\n",
    "    r=randint(1,4)\n",
    "    if(r==1):\n",
    "        ch=ch+str(randint(0,9))\n",
    "    elif(r==2):\n",
    "        ch=ch+chr(randint(ord('A'),ord('Z')))\n",
    "    elif(r==3):\n",
    "        ch=ch+chr(randint(ord('a'),ord('z')))\n",
    "    else:\n",
    "        v=randint(1,3)\n",
    "        if(v==1):\n",
    "            ch=ch+chr(randint(33,47))\n",
    "        elif(v==2):\n",
    "            ch=ch+chr(randint(58,64))\n",
    "        else:\n",
    "            ch=ch+chr(randint(91,96))\n",
    "print('password:',ch)"
   ]
  },
  {
   "cell_type": "code",
   "execution_count": null,
   "id": "f6429b46",
   "metadata": {},
   "outputs": [],
   "source": []
  }
 ],
 "metadata": {
  "kernelspec": {
   "display_name": "Python 3 (ipykernel)",
   "language": "python",
   "name": "python3"
  },
  "language_info": {
   "codemirror_mode": {
    "name": "ipython",
    "version": 3
   },
   "file_extension": ".py",
   "mimetype": "text/x-python",
   "name": "python",
   "nbconvert_exporter": "python",
   "pygments_lexer": "ipython3",
   "version": "3.9.13"
  }
 },
 "nbformat": 4,
 "nbformat_minor": 5
}
