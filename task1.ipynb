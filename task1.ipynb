{
 "cells": [
  {
   "cell_type": "code",
   "execution_count": 1,
   "id": "df0a8391",
   "metadata": {},
   "outputs": [],
   "source": [
    "def read():\n",
    "    global n,to_do\n",
    "    n=int(input('enter the number of tasks: '))\n",
    "    to_do={}\n",
    "    for i in range(1,n+1):\n",
    "        sub={}\n",
    "        k='task'+str(i)\n",
    "        t=input('enter the task: ')\n",
    "        s=''\n",
    "        while not(s.lower()=='completed' or s.lower()=='uncompleted'):\n",
    "            s=input('enter the status of the task (completed/uncompleted): ')\n",
    "        sub.update({t:s})\n",
    "        to_do.update({k:sub})\n",
    "    return to_do"
   ]
  },
  {
   "cell_type": "code",
   "execution_count": 2,
   "id": "e858371a",
   "metadata": {},
   "outputs": [],
   "source": [
    "def add(to_do,n):\n",
    "    m=int(input('enter the number of tasks you want to add: '))\n",
    "    for i in range(n+1,n+m+1):\n",
    "        sub={}\n",
    "        k='task'+str(i)\n",
    "        t=input('enter the task: ')\n",
    "        s=''\n",
    "        while not(s.lower()=='completed' or s.lower()=='uncompleted'):\n",
    "            s=input('enter the status of the task (completed/uncompleted): ')\n",
    "        sub.update({t:s})\n",
    "        to_do.update({k:sub})\n",
    "    return to_do "
   ]
  },
  {
   "cell_type": "code",
   "execution_count": 3,
   "id": "cf244a95",
   "metadata": {},
   "outputs": [],
   "source": [
    "def delete(t):\n",
    "    ch=input('enter the task you want to delete: ')\n",
    "    s='task'+ch\n",
    "    for x,y in t.items():\n",
    "        if(ch==x or s==x):\n",
    "             s1=x\n",
    "        else:\n",
    "            for value in y.keys():\n",
    "                if(ch==value):\n",
    "                    s1=x\n",
    "    del t[s1]\n",
    "    return t"
   ]
  },
  {
   "cell_type": "code",
   "execution_count": 4,
   "id": "b4f3a7d9",
   "metadata": {},
   "outputs": [],
   "source": [
    "def update(to_do,n):\n",
    "    s=input('do you want to add or delete tasks? ')\n",
    "    if(s.lower()=='add'):\n",
    "        to_do=add(to_do,n)\n",
    "    elif(s.lower()=='delete'):\n",
    "        to_do=delete(to_do)\n",
    "    else:\n",
    "        print('no changes have been made to the task')\n",
    "    return to_do"
   ]
  },
  {
   "cell_type": "code",
   "execution_count": 5,
   "id": "55f42fc6",
   "metadata": {},
   "outputs": [],
   "source": [
    "def printing(to_do):\n",
    "    for key,value in to_do.items():\n",
    "        print(key)\n",
    "        for x,y in value.items():\n",
    "            print(f\"{x}: {y}\")\n",
    "        print()"
   ]
  },
  {
   "cell_type": "code",
   "execution_count": 6,
   "id": "8d1984cd",
   "metadata": {},
   "outputs": [
    {
     "name": "stdout",
     "output_type": "stream",
     "text": [
      "option 1: creating the tasks list\n",
      "option 2: updating the already existing tasks list\n",
      "option 3: printing the tasks list\n",
      "enter your option: 1\n",
      "enter the number of tasks: 2\n",
      "enter the task: python project\n",
      "enter the status of the task (completed/uncompleted): completed\n",
      "enter the task: meeting\n",
      "enter the status of the task (completed/uncompleted): uncompleted\n",
      "option 1: creating the tasks list\n",
      "option 2: updating the already existing tasks list\n",
      "option 3: printing the tasks list\n",
      "enter your option: 2\n",
      "do you want to add or delete tasks? delete\n",
      "enter the task you want to delete: python project\n",
      "option 1: creating the tasks list\n",
      "option 2: updating the already existing tasks list\n",
      "option 3: printing the tasks list\n",
      "enter your option: 3\n",
      "task2\n",
      "meeting: uncompleted\n",
      "\n"
     ]
    }
   ],
   "source": [
    "while True:\n",
    "    print('option 1: creating the tasks list')\n",
    "    print('option 2: updating the already existing tasks list')\n",
    "    print('option 3: printing the tasks list')\n",
    "    p=int(input('enter your option: '))\n",
    "    if(p==1):\n",
    "        read()\n",
    "    elif(p==2):\n",
    "        update(to_do,n)\n",
    "    elif(p==3):\n",
    "        printing(to_do)\n",
    "        break\n",
    "    else:\n",
    "        print('invalid option')"
   ]
  },
  {
   "cell_type": "code",
   "execution_count": null,
   "id": "cd127afe",
   "metadata": {},
   "outputs": [],
   "source": []
  }
 ],
 "metadata": {
  "kernelspec": {
   "display_name": "Python 3 (ipykernel)",
   "language": "python",
   "name": "python3"
  },
  "language_info": {
   "codemirror_mode": {
    "name": "ipython",
    "version": 3
   },
   "file_extension": ".py",
   "mimetype": "text/x-python",
   "name": "python",
   "nbconvert_exporter": "python",
   "pygments_lexer": "ipython3",
   "version": "3.9.13"
  }
 },
 "nbformat": 4,
 "nbformat_minor": 5
}
