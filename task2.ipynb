{
 "cells": [
  {
   "cell_type": "code",
   "execution_count": 3,
   "id": "10c91aef",
   "metadata": {},
   "outputs": [
    {
     "name": "stdout",
     "output_type": "stream",
     "text": [
      "first number: 12\n",
      "second number: 5\n",
      "arithmetic operator: +\n",
      "the result is:\n",
      "17.0\n"
     ]
    }
   ],
   "source": [
    "a=float(input('first number: '))\n",
    "b=float(input('second number: '))\n",
    "ch='+-*/'\n",
    "op='!'\n",
    "while not(op in ch):\n",
    "    op=input('arithmetic operator: ')\n",
    "if(op=='+'):\n",
    "    print('the result is:')\n",
    "    print(a+b)\n",
    "elif(op=='-'):\n",
    "    print('the result is:')\n",
    "    print(a-b)\n",
    "elif(op=='*'):\n",
    "    print('the result is:')\n",
    "    print(a*b)\n",
    "else:\n",
    "    if(b==0):\n",
    "        print('division by 0 impossible')\n",
    "    else:\n",
    "        print(a/b)"
   ]
  },
  {
   "cell_type": "code",
   "execution_count": null,
   "id": "852bb67d",
   "metadata": {},
   "outputs": [],
   "source": []
  }
 ],
 "metadata": {
  "kernelspec": {
   "display_name": "Python 3 (ipykernel)",
   "language": "python",
   "name": "python3"
  },
  "language_info": {
   "codemirror_mode": {
    "name": "ipython",
    "version": 3
   },
   "file_extension": ".py",
   "mimetype": "text/x-python",
   "name": "python",
   "nbconvert_exporter": "python",
   "pygments_lexer": "ipython3",
   "version": "3.9.13"
  }
 },
 "nbformat": 4,
 "nbformat_minor": 5
}
