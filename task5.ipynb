{
 "cells": [
  {
   "cell_type": "code",
   "execution_count": null,
   "id": "88ab94b4",
   "metadata": {},
   "outputs": [],
   "source": [
    "def fill_contact():\n",
    "    global n,contacts\n",
    "    n=int(input('enter the number of contacts you want to add: '))\n",
    "    contacts=dict()\n",
    "    for i in range(1,n+1):\n",
    "        value={'name':'','phone number':'','email':'','address':''}\n",
    "        key='contact'+str(i)\n",
    "        for x in value.keys():\n",
    "            value[x]=input(x)\n",
    "        contacts.update({key:value})\n",
    "    return contacts"
   ]
  },
  {
   "cell_type": "code",
   "execution_count": null,
   "id": "38aa60a3",
   "metadata": {},
   "outputs": [],
   "source": [
    "def add_contacts(contacts,n):\n",
    "    m=int(input('enter the number of contacts you want to add: '))\n",
    "    for i in range(n+1,m+1):\n",
    "        value={'name':'','phone number':'','email':'','address':''}\n",
    "        key='contact'+str(i)\n",
    "        for x in value.keys():\n",
    "            value[x]=input(x)\n",
    "        contacts.update({key:value})\n",
    "    return contacts"
   ]
  },
  {
   "cell_type": "code",
   "execution_count": null,
   "id": "45552db8",
   "metadata": {},
   "outputs": [],
   "source": [
    "def contact_search(contacts):\n",
    "    s=input('enter the name or the phone number: ')\n",
    "    if s in contacts.values().values():\n",
    "        return f\"{s} exists in the contact list\"\n",
    "    else:\n",
    "        return f\"{s} does not exist in the contact list\""
   ]
  },
  {
   "cell_type": "code",
   "execution_count": null,
   "id": "51fb5a41",
   "metadata": {},
   "outputs": [],
   "source": [
    "def view_contact(contacts):\n",
    "    for key,value in contacts.items():\n",
    "        print(key)\n",
    "        for x,y in value.items():\n",
    "            print(f\"{x}: {y}\")\n",
    "        print()"
   ]
  },
  {
   "cell_type": "code",
   "execution_count": null,
   "id": "31aa112a",
   "metadata": {},
   "outputs": [],
   "source": [
    "while True:\n",
    "    print('option 1: creating the contact list')\n",
    "    print('option 2: adding contacts')\n",
    "    print('option 3: searching a contact via name or phone number')\n",
    "    print('option 4: listing the contact list')\n",
    "    p=int(input('enter your option: '))\n",
    "    if(p==1):\n",
    "        fill_contact()\n",
    "    elif(p==2):\n",
    "        add_contacts(contacts,n)\n",
    "    elif(p==3):\n",
    "        print(contact_search(contacts))\n",
    "    elif(p==4):\n",
    "        view_contact(contacts)\n",
    "        break\n",
    "    else:\n",
    "        print('invalid option')"
   ]
  },
  {
   "cell_type": "code",
   "execution_count": null,
   "id": "f577f87a",
   "metadata": {},
   "outputs": [],
   "source": []
  }
 ],
 "metadata": {
  "kernelspec": {
   "display_name": "Python 3 (ipykernel)",
   "language": "python",
   "name": "python3"
  },
  "language_info": {
   "codemirror_mode": {
    "name": "ipython",
    "version": 3
   },
   "file_extension": ".py",
   "mimetype": "text/x-python",
   "name": "python",
   "nbconvert_exporter": "python",
   "pygments_lexer": "ipython3",
   "version": "3.9.13"
  }
 },
 "nbformat": 4,
 "nbformat_minor": 5
}
